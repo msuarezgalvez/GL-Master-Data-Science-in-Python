{
  "nbformat": 4,
  "nbformat_minor": 0,
  "metadata": {
    "kernelspec": {
      "display_name": "Python 3",
      "language": "python",
      "name": "python3"
    },
    "language_info": {
      "codemirror_mode": {
        "name": "ipython",
        "version": 3
      },
      "file_extension": ".py",
      "mimetype": "text/x-python",
      "name": "python",
      "nbconvert_exporter": "python",
      "pygments_lexer": "ipython3",
      "version": "3.7.4"
    },
    "colab": {
      "name": "numpy.ipynb",
      "provenance": []
    }
  },
  "cells": [
    {
      "cell_type": "code",
      "metadata": {
        "id": "9_XnJnGNFV-F"
      },
      "source": [
        ""
      ],
      "execution_count": null,
      "outputs": []
    },
    {
      "cell_type": "code",
      "metadata": {
        "id": "v5SGdXexFV-J"
      },
      "source": [
        "#Creating Single dimensional array"
      ],
      "execution_count": null,
      "outputs": []
    },
    {
      "cell_type": "code",
      "metadata": {
        "id": "lHorbZU3FV-J",
        "outputId": "e5f1f850-f09d-418c-80f0-b34b4d66b18e"
      },
      "source": [
        "import numpy as np\n",
        "\n",
        "n1=np.array([10,20,30,40])\n",
        "n1"
      ],
      "execution_count": null,
      "outputs": [
        {
          "data": {
            "text/plain": [
              "array([10, 20, 30, 40])"
            ]
          },
          "execution_count": 3,
          "metadata": {},
          "output_type": "execute_result"
        }
      ]
    },
    {
      "cell_type": "code",
      "metadata": {
        "id": "tm4oq41EFV-L"
      },
      "source": [
        "#Creating Multi-Dimensional Array"
      ],
      "execution_count": null,
      "outputs": []
    },
    {
      "cell_type": "code",
      "metadata": {
        "id": "ukvqonmTFV-M",
        "outputId": "e2affd75-710e-41ad-e830-7c81a31aa3ec"
      },
      "source": [
        "import numpy as np\n",
        "\n",
        "n2=np.array([[10,20,30,40],[40,30,20,10]])\n",
        "n2"
      ],
      "execution_count": null,
      "outputs": [
        {
          "data": {
            "text/plain": [
              "array([[10, 20, 30, 40],\n",
              "       [40, 30, 20, 10]])"
            ]
          },
          "execution_count": 6,
          "metadata": {},
          "output_type": "execute_result"
        }
      ]
    },
    {
      "cell_type": "code",
      "metadata": {
        "id": "IhYYEpVDFV-N",
        "outputId": "82baa555-9002-48f2-eb53-bd34ec1fbb30"
      },
      "source": [
        "type(n2)"
      ],
      "execution_count": null,
      "outputs": [
        {
          "data": {
            "text/plain": [
              "numpy.ndarray"
            ]
          },
          "execution_count": 7,
          "metadata": {},
          "output_type": "execute_result"
        }
      ]
    },
    {
      "cell_type": "code",
      "metadata": {
        "id": "zuWM62GzFV-N"
      },
      "source": [
        "#Extracting elements"
      ],
      "execution_count": null,
      "outputs": []
    },
    {
      "cell_type": "code",
      "metadata": {
        "id": "uyLbKzZFFV-O",
        "outputId": "6c53851a-2ecc-485a-89f3-dc3609ae0bbf"
      },
      "source": [
        "n1"
      ],
      "execution_count": null,
      "outputs": [
        {
          "data": {
            "text/plain": [
              "array([10, 20, 30, 40])"
            ]
          },
          "execution_count": 9,
          "metadata": {},
          "output_type": "execute_result"
        }
      ]
    },
    {
      "cell_type": "code",
      "metadata": {
        "id": "gcxtl4wTFV-P",
        "outputId": "1b673ee3-f5be-4289-820c-0c12c174078a"
      },
      "source": [
        "n1[0]"
      ],
      "execution_count": null,
      "outputs": [
        {
          "data": {
            "text/plain": [
              "10"
            ]
          },
          "execution_count": 10,
          "metadata": {},
          "output_type": "execute_result"
        }
      ]
    },
    {
      "cell_type": "code",
      "metadata": {
        "id": "4HVRsj0BFV-Q",
        "outputId": "92203854-d36f-497e-ccb0-80e00fce55fd"
      },
      "source": [
        "n1[1:3]"
      ],
      "execution_count": null,
      "outputs": [
        {
          "data": {
            "text/plain": [
              "array([20, 30])"
            ]
          },
          "execution_count": 13,
          "metadata": {},
          "output_type": "execute_result"
        }
      ]
    },
    {
      "cell_type": "code",
      "metadata": {
        "id": "-JNOkl6IFV-R",
        "outputId": "b3a92bbf-c160-48a0-8afe-08a7f165200f"
      },
      "source": [
        "n2"
      ],
      "execution_count": null,
      "outputs": [
        {
          "data": {
            "text/plain": [
              "array([[10, 20, 30, 40],\n",
              "       [40, 30, 20, 10]])"
            ]
          },
          "execution_count": 14,
          "metadata": {},
          "output_type": "execute_result"
        }
      ]
    },
    {
      "cell_type": "code",
      "metadata": {
        "id": "UGrdDZSIFV-S",
        "outputId": "d41bd4a0-201a-43cf-bfea-0d1331607671"
      },
      "source": [
        "n2[0,0]"
      ],
      "execution_count": null,
      "outputs": [
        {
          "data": {
            "text/plain": [
              "10"
            ]
          },
          "execution_count": 17,
          "metadata": {},
          "output_type": "execute_result"
        }
      ]
    },
    {
      "cell_type": "code",
      "metadata": {
        "id": "C3RU7aysFV-U",
        "outputId": "1ae7a34c-8c47-4932-ab24-d3a0e4728d52"
      },
      "source": [
        "n2[0]"
      ],
      "execution_count": null,
      "outputs": [
        {
          "data": {
            "text/plain": [
              "array([10, 20, 30, 40])"
            ]
          },
          "execution_count": 18,
          "metadata": {},
          "output_type": "execute_result"
        }
      ]
    },
    {
      "cell_type": "code",
      "metadata": {
        "id": "Z4U9nWwTFV-U",
        "outputId": "4c6109ac-7775-489d-e7a2-0ee52c7f231f"
      },
      "source": [
        "n2[1,3]"
      ],
      "execution_count": null,
      "outputs": [
        {
          "data": {
            "text/plain": [
              "10"
            ]
          },
          "execution_count": 19,
          "metadata": {},
          "output_type": "execute_result"
        }
      ]
    },
    {
      "cell_type": "code",
      "metadata": {
        "id": "U5Awq06yFV-V"
      },
      "source": [
        "#np.zeros"
      ],
      "execution_count": null,
      "outputs": []
    },
    {
      "cell_type": "code",
      "metadata": {
        "id": "1V07vv0vFV-V",
        "outputId": "b82484d7-2adc-4718-e1eb-68e1081df2ab"
      },
      "source": [
        "import numpy as np\n",
        "n1=np.zeros((1,2))\n",
        "n1"
      ],
      "execution_count": null,
      "outputs": [
        {
          "data": {
            "text/plain": [
              "array([[0., 0.]])"
            ]
          },
          "execution_count": 30,
          "metadata": {},
          "output_type": "execute_result"
        }
      ]
    },
    {
      "cell_type": "code",
      "metadata": {
        "id": "ExQ1_r8aFV-W",
        "outputId": "03f2224c-b7d6-439a-a949-44ea8ebb8ef8"
      },
      "source": [
        "import numpy as np\n",
        "n1=np.zeros((5,5))\n",
        "n1"
      ],
      "execution_count": null,
      "outputs": [
        {
          "data": {
            "text/plain": [
              "array([[0., 0., 0., 0., 0.],\n",
              "       [0., 0., 0., 0., 0.],\n",
              "       [0., 0., 0., 0., 0.],\n",
              "       [0., 0., 0., 0., 0.],\n",
              "       [0., 0., 0., 0., 0.]])"
            ]
          },
          "execution_count": 31,
          "metadata": {},
          "output_type": "execute_result"
        }
      ]
    },
    {
      "cell_type": "code",
      "metadata": {
        "id": "AUyVcLo1FV-W"
      },
      "source": [
        "#np.arange"
      ],
      "execution_count": null,
      "outputs": []
    },
    {
      "cell_type": "code",
      "metadata": {
        "id": "EWrm9e4uFV-W",
        "outputId": "d3db5c4a-c3bf-4043-d57e-3d195abf789e"
      },
      "source": [
        "import numpy as np\n",
        "n1=np.arange(10,20)\n",
        "n1"
      ],
      "execution_count": null,
      "outputs": [
        {
          "data": {
            "text/plain": [
              "array([10, 11, 12, 13, 14, 15, 16, 17, 18, 19])"
            ]
          },
          "execution_count": 34,
          "metadata": {},
          "output_type": "execute_result"
        }
      ]
    },
    {
      "cell_type": "code",
      "metadata": {
        "id": "jnKTE9YDFV-X",
        "outputId": "3b3bd4d1-e1de-414b-f3c4-1cae52bd50d4"
      },
      "source": [
        "import numpy as np\n",
        "n1=np.arange(10,50,5)\n",
        "n1"
      ],
      "execution_count": null,
      "outputs": [
        {
          "data": {
            "text/plain": [
              "array([10, 15, 20, 25, 30, 35, 40, 45])"
            ]
          },
          "execution_count": 35,
          "metadata": {},
          "output_type": "execute_result"
        }
      ]
    },
    {
      "cell_type": "code",
      "metadata": {
        "id": "GMUU8aZUFV-X"
      },
      "source": [
        "#np.full"
      ],
      "execution_count": null,
      "outputs": []
    },
    {
      "cell_type": "code",
      "metadata": {
        "id": "XAKsgR7NFV-X",
        "outputId": "b7949a26-4b9a-426b-acdd-79c06ae10099"
      },
      "source": [
        "import numpy as np\n",
        "n1=np.full((2,2),10)\n",
        "n1"
      ],
      "execution_count": null,
      "outputs": [
        {
          "data": {
            "text/plain": [
              "array([[10, 10],\n",
              "       [10, 10]])"
            ]
          },
          "execution_count": 38,
          "metadata": {},
          "output_type": "execute_result"
        }
      ]
    },
    {
      "cell_type": "code",
      "metadata": {
        "id": "TLhFHJkYFV-Y"
      },
      "source": [
        "#np.randit"
      ],
      "execution_count": null,
      "outputs": []
    },
    {
      "cell_type": "code",
      "metadata": {
        "id": "npI3rL9HFV-Y",
        "outputId": "0daab9e4-a04d-4680-eeb4-2de8d9e6ebeb"
      },
      "source": [
        "import numpy as np\n",
        "n1=np.random.randint(1,100,5)\n",
        "n1"
      ],
      "execution_count": null,
      "outputs": [
        {
          "data": {
            "text/plain": [
              "array([80, 75, 49, 71, 49])"
            ]
          },
          "execution_count": 1,
          "metadata": {},
          "output_type": "execute_result"
        }
      ]
    },
    {
      "cell_type": "code",
      "metadata": {
        "id": "i1-V4I1AFV-Y",
        "outputId": "a70cd37a-9b7e-4fa9-aa89-236b86b0ae88"
      },
      "source": [
        "n1.shape"
      ],
      "execution_count": null,
      "outputs": [
        {
          "data": {
            "text/plain": [
              "(5,)"
            ]
          },
          "execution_count": 3,
          "metadata": {},
          "output_type": "execute_result"
        }
      ]
    },
    {
      "cell_type": "code",
      "metadata": {
        "id": "_7CQqxOqFV-Y",
        "outputId": "e2d66aad-7466-451e-d4bd-579e70aad332"
      },
      "source": [
        "import numpy as np\n",
        "n1=np.array([[1,2,3],[4,5,6]])\n",
        "n1.shape"
      ],
      "execution_count": null,
      "outputs": [
        {
          "data": {
            "text/plain": [
              "(2, 3)"
            ]
          },
          "execution_count": 4,
          "metadata": {},
          "output_type": "execute_result"
        }
      ]
    },
    {
      "cell_type": "code",
      "metadata": {
        "id": "BXLcBAwxFV-Z"
      },
      "source": [
        "#NumPy Shape"
      ],
      "execution_count": null,
      "outputs": []
    },
    {
      "cell_type": "code",
      "metadata": {
        "id": "_i3rUivvFV-Z",
        "outputId": "64941e47-5b9b-48e4-a2f5-5b2779f74bdf"
      },
      "source": [
        "n1.shape = (3,2)\n",
        "n1.shape"
      ],
      "execution_count": null,
      "outputs": [
        {
          "data": {
            "text/plain": [
              "(3, 2)"
            ]
          },
          "execution_count": 5,
          "metadata": {},
          "output_type": "execute_result"
        }
      ]
    },
    {
      "cell_type": "code",
      "metadata": {
        "id": "LnAr0GNtFV-Z"
      },
      "source": [
        "#Numpy Sum"
      ],
      "execution_count": null,
      "outputs": []
    },
    {
      "cell_type": "code",
      "metadata": {
        "id": "-x-e70bAFV-Z",
        "outputId": "cb19df97-bd19-4312-88c6-ce61bcd3341b"
      },
      "source": [
        "import numpy as np\n",
        "n1=np.array([10,20])\n",
        "n2=np.array([30,40])\n",
        "\n",
        "np.sum([n1,n2])"
      ],
      "execution_count": null,
      "outputs": [
        {
          "data": {
            "text/plain": [
              "100"
            ]
          },
          "execution_count": 13,
          "metadata": {},
          "output_type": "execute_result"
        }
      ]
    },
    {
      "cell_type": "code",
      "metadata": {
        "id": "UT7UQM0iFV-a",
        "outputId": "f2a19017-0feb-486d-e392-9197b9cd24a9"
      },
      "source": [
        "np.sum([n1,n2],axis=0)"
      ],
      "execution_count": null,
      "outputs": [
        {
          "data": {
            "text/plain": [
              "array([40, 60])"
            ]
          },
          "execution_count": 14,
          "metadata": {},
          "output_type": "execute_result"
        }
      ]
    },
    {
      "cell_type": "code",
      "metadata": {
        "id": "ow5wJSHTFV-a",
        "outputId": "6b7cace6-a946-408e-c67c-74d326fa6f63"
      },
      "source": [
        "np.sum([n1,n2],axis=1)"
      ],
      "execution_count": null,
      "outputs": [
        {
          "data": {
            "text/plain": [
              "array([30, 70])"
            ]
          },
          "execution_count": 15,
          "metadata": {},
          "output_type": "execute_result"
        }
      ]
    },
    {
      "cell_type": "code",
      "metadata": {
        "id": "gUHfQXDyFV-a"
      },
      "source": [
        "#NumPy comparison"
      ],
      "execution_count": null,
      "outputs": []
    },
    {
      "cell_type": "code",
      "metadata": {
        "id": "iHji3gw2FV-a",
        "outputId": "73a3283f-09d7-4d61-85c1-708bf79dd238"
      },
      "source": [
        "import numpy as np\n",
        "n1=np.array([10,20,30])\n",
        "n2=np.array([10,30,20])\n",
        "\n",
        "np.equal(n1,n2)"
      ],
      "execution_count": null,
      "outputs": [
        {
          "data": {
            "text/plain": [
              "array([ True, False, False])"
            ]
          },
          "execution_count": 18,
          "metadata": {},
          "output_type": "execute_result"
        }
      ]
    },
    {
      "cell_type": "code",
      "metadata": {
        "id": "26CLsDfbFV-a",
        "outputId": "807543ba-d795-46fb-8e4b-a2170bae8676"
      },
      "source": [
        "import numpy as np\n",
        "n1=np.array([10,20,30])\n",
        "n2=np.array([10,30,20])\n",
        "\n",
        "np.array_equal(n1,n2)"
      ],
      "execution_count": null,
      "outputs": [
        {
          "data": {
            "text/plain": [
              "False"
            ]
          },
          "execution_count": 19,
          "metadata": {},
          "output_type": "execute_result"
        }
      ]
    },
    {
      "cell_type": "code",
      "metadata": {
        "id": "1RGfhonzFV-b"
      },
      "source": [
        "#Joining Arrays"
      ],
      "execution_count": null,
      "outputs": []
    },
    {
      "cell_type": "code",
      "metadata": {
        "id": "v24RZvhHFV-b",
        "outputId": "03f91da9-184f-4d93-e3f5-43638ea617fe"
      },
      "source": [
        "import numpy as np\n",
        "n1=np.array([10,20,30])\n",
        "n2=np.array([40,50,60])\n",
        "\n",
        "np.vstack((n1,n2))"
      ],
      "execution_count": null,
      "outputs": [
        {
          "data": {
            "text/plain": [
              "array([[10, 20, 30],\n",
              "       [40, 50, 60]])"
            ]
          },
          "execution_count": 32,
          "metadata": {},
          "output_type": "execute_result"
        }
      ]
    },
    {
      "cell_type": "code",
      "metadata": {
        "id": "dv0vdR6aFV-b",
        "outputId": "3ee1e9ae-e6a9-4787-d04b-fff8a591212a"
      },
      "source": [
        "import numpy as np\n",
        "n1=np.array([10,20,30])\n",
        "n2=np.array([40,50,60])\n",
        "\n",
        "np.hstack((n1,n2))"
      ],
      "execution_count": null,
      "outputs": [
        {
          "data": {
            "text/plain": [
              "array([10, 20, 30, 40, 50, 60])"
            ]
          },
          "execution_count": 33,
          "metadata": {},
          "output_type": "execute_result"
        }
      ]
    },
    {
      "cell_type": "code",
      "metadata": {
        "id": "uQvQ9aAZFV-c",
        "outputId": "32216012-4e20-4f42-dd0c-d252135b31b5"
      },
      "source": [
        "import numpy as np\n",
        "n1=np.array([10,20,30])\n",
        "n2=np.array([40,50,60])\n",
        "\n",
        "np.column_stack((n1,n2))"
      ],
      "execution_count": null,
      "outputs": [
        {
          "data": {
            "text/plain": [
              "array([[10, 40],\n",
              "       [20, 50],\n",
              "       [30, 60]])"
            ]
          },
          "execution_count": 34,
          "metadata": {},
          "output_type": "execute_result"
        }
      ]
    },
    {
      "cell_type": "code",
      "metadata": {
        "id": "5-ByCdNcFV-d",
        "outputId": "59842592-d756-4b33-804a-4dd5aeb3a976"
      },
      "source": [
        "import numpy as np\n",
        "n1=np.array([10,20,30])\n",
        "n1=n1/2\n",
        "n1"
      ],
      "execution_count": null,
      "outputs": [
        {
          "data": {
            "text/plain": [
              "array([ 5., 10., 15.])"
            ]
          },
          "execution_count": 7,
          "metadata": {},
          "output_type": "execute_result"
        }
      ]
    },
    {
      "cell_type": "code",
      "metadata": {
        "id": "A-3puwrlFV-d",
        "outputId": "065a0ea9-f39b-49a6-c729-c243ea71f3ef"
      },
      "source": [
        "n1=n1+1\n",
        "n1"
      ],
      "execution_count": null,
      "outputs": [
        {
          "data": {
            "text/plain": [
              "array([11, 21, 31])"
            ]
          },
          "execution_count": 3,
          "metadata": {},
          "output_type": "execute_result"
        }
      ]
    },
    {
      "cell_type": "code",
      "metadata": {
        "id": "z4Wvv5FAFV-d"
      },
      "source": [
        "import numpy as np\n",
        "n1=np.array([10,20,30,40,50,60])\n",
        "n2=np.array([50,60,70,80,90])"
      ],
      "execution_count": null,
      "outputs": []
    },
    {
      "cell_type": "code",
      "metadata": {
        "id": "VPSHq1UXFV-d",
        "outputId": "dc96cd72-8c32-4aeb-8f87-3ca69516de96"
      },
      "source": [
        "np.intersect1d(n1,n2)"
      ],
      "execution_count": null,
      "outputs": [
        {
          "data": {
            "text/plain": [
              "array([50, 60])"
            ]
          },
          "execution_count": 22,
          "metadata": {},
          "output_type": "execute_result"
        }
      ]
    },
    {
      "cell_type": "code",
      "metadata": {
        "id": "PshI5BPfFV-e",
        "outputId": "783f3033-49af-405c-c3d6-eef63db0f805"
      },
      "source": [
        "np.setdiff1d(n1,n2)"
      ],
      "execution_count": null,
      "outputs": [
        {
          "data": {
            "text/plain": [
              "array([10, 20, 30, 40])"
            ]
          },
          "execution_count": 23,
          "metadata": {},
          "output_type": "execute_result"
        }
      ]
    },
    {
      "cell_type": "code",
      "metadata": {
        "id": "rshYZrqoFV-e"
      },
      "source": [
        "#numpy math functions"
      ],
      "execution_count": null,
      "outputs": []
    },
    {
      "cell_type": "code",
      "metadata": {
        "id": "Q-IWsKK6FV-e",
        "outputId": "9ae032c1-667e-47b5-903a-001d9af854d6"
      },
      "source": [
        "import numpy as np\n",
        "n1=np.array([1,5,3,100,4,48])\n",
        "np.std(n1)"
      ],
      "execution_count": null,
      "outputs": [
        {
          "data": {
            "text/plain": [
              "36.59424666377065"
            ]
          },
          "execution_count": 17,
          "metadata": {},
          "output_type": "execute_result"
        }
      ]
    },
    {
      "cell_type": "code",
      "metadata": {
        "id": "P5uH6k1bFV-e"
      },
      "source": [
        ""
      ],
      "execution_count": null,
      "outputs": []
    }
  ]
}